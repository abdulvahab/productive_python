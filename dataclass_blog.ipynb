{
 "cells": [
  {
   "cell_type": "markdown",
   "metadata": {},
   "source": [
    "# Introduction to dataclasses\n",
    "If you are writing a python code and using object orientation programming, \n",
    "do your self a favour and start using data classes.\n",
    "\n",
    "This module provides a decorator and functions for automatically adding generated \n",
    "special methods such as __init__() and __repr__() to user-defined classes. \n"
   ]
  },
  {
   "cell_type": "code",
   "execution_count": 17,
   "metadata": {},
   "outputs": [],
   "source": [
    "# The old way of writing a class will look like this.\n",
    "class WorkingGroupOldWay:    \n",
    "    def __init__(self, name, manager, number_of_employees, floor):        \n",
    "        self.name = name        \n",
    "        self.manager = manager        \n",
    "        self.number_of_employees = number_of_employees        \n",
    "        self.floor = floor"
   ]
  },
  {
   "cell_type": "code",
   "execution_count": 18,
   "metadata": {},
   "outputs": [
    {
     "name": "stdout",
     "output_type": "stream",
     "text": [
      "F&W\n",
      "<__main__.WorkingGroupOldWay object at 0x000001D3CF2A4648>\n"
     ]
    }
   ],
   "source": [
    "wg = WorkingGroupOldWay('F&W', 'Caroline Hazelwood', 50, 2)\n",
    "print(wg.name)\n",
    "print(wg)"
   ]
  },
  {
   "cell_type": "code",
   "execution_count": 19,
   "metadata": {},
   "outputs": [],
   "source": [
    "# If you use dataclasses module the above code can be simply rewritten as follows.\n",
    "from dataclasses import dataclass, asdict\n",
    "from dataclasses_json import dataclass_json\n",
    "\n",
    "@dataclass_json\n",
    "@dataclass\n",
    "class WorkingGroupNewWay:    \n",
    "    name : str    \n",
    "    manager : str    \n",
    "    number_of_employees : int    \n",
    "    floor : int"
   ]
  },
  {
   "cell_type": "code",
   "execution_count": 20,
   "metadata": {},
   "outputs": [
    {
     "name": "stdout",
     "output_type": "stream",
     "text": [
      "WorkingGroupNewWay(name='F&W', manager='Caroline Hazelwood', number_of_employees=50, floor=2)\n"
     ]
    }
   ],
   "source": [
    "wg_new = WorkingGroupNewWay('F&W', 'Caroline Hazelwood', 50, 2)\n",
    "wg.name\n",
    "print(wg_new)"
   ]
  },
  {
   "cell_type": "code",
   "execution_count": 21,
   "metadata": {},
   "outputs": [
    {
     "name": "stdout",
     "output_type": "stream",
     "text": [
      "WorkingGroupNewWay(name='F&W', manager='Caroline Hazelwood', number_of_employees=50, floor=2)\n"
     ]
    }
   ],
   "source": [
    "#Dataclass allows you to create a object using a dictionary\n",
    "working_group = {\"name\":\"F&W\", \n",
    "                 \"manager\" : \"Caroline Hazelwood\", \n",
    "                 \"number_of_employees\" : 50, \n",
    "                 \"floor\" :2}\n",
    "wg2 = WorkingGroupNewWay(**working_group)\n",
    "print(wg2)"
   ]
  },
  {
   "cell_type": "code",
   "execution_count": 22,
   "metadata": {},
   "outputs": [
    {
     "name": "stdout",
     "output_type": "stream",
     "text": [
      "{'name': 'F&W', 'manager': 'Caroline Hazelwood', 'number_of_employees': 50, 'floor': 2}\n"
     ]
    }
   ],
   "source": [
    "#You can also convert a dataclass object into a dictionary using asdict method \n",
    "wg_as_dict = asdict(wg2)\n",
    "print(wg_as_dict)"
   ]
  },
  {
   "cell_type": "code",
   "execution_count": 24,
   "metadata": {},
   "outputs": [
    {
     "name": "stdout",
     "output_type": "stream",
     "text": [
      "WorkingGroupNewWay(name='F&W', manager='Caroline Hazelwood', number_of_employees=50, floor=2)\n"
     ]
    }
   ],
   "source": [
    "# You can also create a dataclass object from json and we need to import dataclasses_json\n",
    "\n",
    "import json\n",
    "\n",
    "json_resp_from_api = json.dumps(wg_as_dict)\n",
    "wg_from_json = WorkingGroupNewWay.from_json(json_resp_from_api)\n",
    "print(wg_from_json)\n"
   ]
  },
  {
   "cell_type": "code",
   "execution_count": 26,
   "metadata": {},
   "outputs": [
    {
     "name": "stdout",
     "output_type": "stream",
     "text": [
      "{\"name\": \"F&W\", \"manager\": \"Caroline Hazelwood\", \"number_of_employees\": 50, \"floor\": 2}\n"
     ]
    }
   ],
   "source": [
    "#Convert dataclass object to JSON and very useful for developing API. FastAPI is built on this \n",
    "json_from_wg = wg_from_json.to_json()\n",
    "print(json_from_wg)"
   ]
  },
  {
   "cell_type": "markdown",
   "metadata": {},
   "source": [
    "For detailed documentation visit: \n",
    "\n",
    "https://docs.python.org/3/library/dataclasses.html\n",
    "\n",
    "https://lidatong.github.io/dataclasses-json/\n",
    "\n",
    "https://fastapi.tiangolo.com/\n",
    "\n",
    "For interective notebook or to download src code\n",
    "\n",
    "https://hub.gke2.mybinder.org/user/abdulvahab-productive_python-5dosnbjf/notebooks/dataclass_blog.ipynb"
   ]
  },
  {
   "cell_type": "code",
   "execution_count": null,
   "metadata": {},
   "outputs": [],
   "source": []
  }
 ],
 "metadata": {
  "kernelspec": {
   "display_name": "Python 3",
   "language": "python",
   "name": "python3"
  },
  "language_info": {
   "codemirror_mode": {
    "name": "ipython",
    "version": 3
   },
   "file_extension": ".py",
   "mimetype": "text/x-python",
   "name": "python",
   "nbconvert_exporter": "python",
   "pygments_lexer": "ipython3",
   "version": "3.7.4"
  }
 },
 "nbformat": 4,
 "nbformat_minor": 2
}

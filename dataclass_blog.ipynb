{
 "cells": [
  {
   "cell_type": "markdown",
   "metadata": {},
   "source": [
    "# Introduction to dataclasses\n",
    "If you are writing a python code and using object orientation programming, \n",
    "do your self a favour and start using data classes.\n",
    "\n",
    "This module provides a decorator and functions for automatically adding generated \n",
    "special methods such as __init__() and __repr__() to user-defined classes. T\n"
   ]
  },
  {
   "cell_type": "code",
   "execution_count": 1,
   "metadata": {},
   "outputs": [],
   "source": [
    "# The old way of writing a class will look like this.\n",
    "class WorkingGroupOldWay:    \n",
    "    def __init__(self, name, manager, number_of_employees, floor):        \n",
    "        self.name = name        \n",
    "        self.manager = manager        \n",
    "        self.number_of_employees = number_of_employees        \n",
    "        self.floor = floor"
   ]
  },
  {
   "cell_type": "code",
   "execution_count": 2,
   "metadata": {},
   "outputs": [
    {
     "name": "stdout",
     "output_type": "stream",
     "text": [
      "F&W\n",
      "<__main__.WorkingGroupOldWay object at 0x000001D3CD1E6408>\n"
     ]
    }
   ],
   "source": [
    "wg = WorkingGroupOldWay('F&W', 'Caroline Hazelwood', 50, 2)\n",
    "print(wg.name)\n",
    "print(wg)"
   ]
  },
  {
   "cell_type": "code",
   "execution_count": 3,
   "metadata": {},
   "outputs": [],
   "source": [
    "# If you use dataclasses module the above code can be simply rewritten as follows.\n",
    "from dataclasses import dataclass, asdict\n",
    "\n",
    "@dataclass\n",
    "class WorkingGroupNewWay:    \n",
    "    name : str    \n",
    "    manager : str    \n",
    "    number_of_employees : int    \n",
    "    floor : int"
   ]
  },
  {
   "cell_type": "code",
   "execution_count": 4,
   "metadata": {},
   "outputs": [
    {
     "name": "stdout",
     "output_type": "stream",
     "text": [
      "WorkingGroupNewWay(name='F&W', manager='Caroline Hazelwood', number_of_employees=50, floor=2)\n"
     ]
    }
   ],
   "source": [
    "wg_new = WorkingGroupNewWay('F&W', 'Caroline Hazelwood', 50, 2)\n",
    "wg.name\n",
    "print(wg_new)"
   ]
  },
  {
   "cell_type": "code",
   "execution_count": 5,
   "metadata": {},
   "outputs": [
    {
     "name": "stdout",
     "output_type": "stream",
     "text": [
      "WorkingGroupNewWay(name='F&W', manager='Caroline Hazelwood', number_of_employees=50, floor=2)\n"
     ]
    }
   ],
   "source": [
    "#Dataclass allows you to create a object using a dictionary\n",
    "working_group = {\"name\":\"F&W\", \n",
    "                 \"manager\" : \"Caroline Hazelwood\", \n",
    "                 \"number_of_employees\" : 50, \n",
    "                 \"floor\" :2}\n",
    "wg2 = WorkingGroupNewWay(**working_group)\n",
    "print(wg2)"
   ]
  },
  {
   "cell_type": "code",
   "execution_count": 6,
   "metadata": {},
   "outputs": [
    {
     "data": {
      "text/plain": [
       "{'name': 'F&W',\n",
       " 'manager': 'Caroline Hazelwood',\n",
       " 'number_of_employees': 50,\n",
       " 'floor': 2}"
      ]
     },
     "execution_count": 6,
     "metadata": {},
     "output_type": "execute_result"
    }
   ],
   "source": [
    "#You can also convert a dataclass object into a dictionary using asdict method \n",
    "asdict(wg2)"
   ]
  },
  {
   "cell_type": "markdown",
   "metadata": {},
   "source": [
    "For detailed documentation visit: "
   ]
  }
 ],
 "metadata": {
  "kernelspec": {
   "display_name": "Python 3",
   "language": "python",
   "name": "python3"
  },
  "language_info": {
   "codemirror_mode": {
    "name": "ipython",
    "version": 3
   },
   "file_extension": ".py",
   "mimetype": "text/x-python",
   "name": "python",
   "nbconvert_exporter": "python",
   "pygments_lexer": "ipython3",
   "version": "3.7.4"
  }
 },
 "nbformat": 4,
 "nbformat_minor": 2
}

{
 "cells": [
  {
   "cell_type": "markdown",
   "metadata": {},
   "source": [
    "## asterisk in python\n",
    "There are two operators ('\\*') and ('\\**') do some magical things and if you get in habit of using it correctely it will make your code much slicker and will save you some developement time\n",
    "\n",
    "In this notebook I will discuss about single asterisk (*) operator which is familiar to most of us as multiplication operator in most programming languages. "
   ]
  },
  {
   "cell_type": "markdown",
   "metadata": {},
   "source": [
    "### Familiar usage of (*) as a multiplication operator"
   ]
  },
  {
   "cell_type": "code",
   "execution_count": 2,
   "metadata": {},
   "outputs": [
    {
     "data": {
      "text/plain": [
       "1.56"
      ]
     },
     "execution_count": 2,
     "metadata": {},
     "output_type": "execute_result"
    }
   ],
   "source": [
    "def multiply(a:float, b:float) -> float:\n",
    "    return a * b\n",
    "\n",
    "multiply(1.2, 1.3)"
   ]
  },
  {
   "cell_type": "markdown",
   "metadata": {},
   "source": [
    "### What if want to calculate the multiplication of all element in a list "
   ]
  },
  {
   "cell_type": "code",
   "execution_count": 5,
   "metadata": {},
   "outputs": [
    {
     "data": {
      "text/plain": [
       "120"
      ]
     },
     "execution_count": 5,
     "metadata": {},
     "output_type": "execute_result"
    }
   ],
   "source": [
    "# I will solve above problem as below if I didn't come across the usage of (*) to unpack container datastrucure (e.g. list, tuple and set)\n",
    "\n",
    "def multiplication_of_elements_in_the_list(number_list: list) -> float:\n",
    "    answer = 1\n",
    "    for number in number_list:\n",
    "        answer *= number\n",
    "    return answer\n",
    "multiplication_of_elements_in_the_list([1,2,3,4,5])\n",
    "        \n",
    "        "
   ]
  },
  {
   "cell_type": "code",
   "execution_count": 11,
   "metadata": {},
   "outputs": [
    {
     "name": "stdout",
     "output_type": "stream",
     "text": [
      "1 2 3 4 5\n"
     ]
    },
    {
     "data": {
      "text/plain": [
       "120"
      ]
     },
     "execution_count": 11,
     "metadata": {},
     "output_type": "execute_result"
    }
   ],
   "source": [
    "# Much cleaner and easy way using (*) oprator\n",
    "from functools import reduce\n",
    "number_list = [1,2,3,4,5]\n",
    "print(*number_list)\n",
    "\n",
    "def multiplication_of_elements_in_the_list_using_args(number_list : list) -> float:\n",
    "    answer = reduce(lambda a,b : a*b, number_list)\n",
    "    return answer\n",
    "\n",
    "multiplication_of_elements_in_the_list_using_args(number_list)\n",
    "    "
   ]
  },
  {
   "cell_type": "code",
   "execution_count": null,
   "metadata": {},
   "outputs": [],
   "source": [
    "# This approach will become messier as soom as requirement become bit complex. Let's say "
   ]
  }
 ],
 "metadata": {
  "kernelspec": {
   "display_name": "Python 3",
   "language": "python",
   "name": "python3"
  },
  "language_info": {
   "codemirror_mode": {
    "name": "ipython",
    "version": 3
   },
   "file_extension": ".py",
   "mimetype": "text/x-python",
   "name": "python",
   "nbconvert_exporter": "python",
   "pygments_lexer": "ipython3",
   "version": "3.8.5"
  }
 },
 "nbformat": 4,
 "nbformat_minor": 4
}
